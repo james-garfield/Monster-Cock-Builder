{
 "cells": [
  {
   "cell_type": "markdown",
   "metadata": {},
   "source": [
    "# Verify Model with MinMax"
   ]
  },
  {
   "cell_type": "code",
   "execution_count": 1,
   "metadata": {},
   "outputs": [],
   "source": [
    "import numpy as np\n",
    "import pandas as pd\n",
    "import matplotlib.pyplot as plt\n",
    "import seaborn as sns\n",
    "%matplotlib inline"
   ]
  },
  {
   "cell_type": "code",
   "execution_count": 2,
   "metadata": {},
   "outputs": [
    {
     "data": {
      "text/html": [
       "<div>\n",
       "<style scoped>\n",
       "    .dataframe tbody tr th:only-of-type {\n",
       "        vertical-align: middle;\n",
       "    }\n",
       "\n",
       "    .dataframe tbody tr th {\n",
       "        vertical-align: top;\n",
       "    }\n",
       "\n",
       "    .dataframe thead th {\n",
       "        text-align: right;\n",
       "    }\n",
       "</style>\n",
       "<table border=\"1\" class=\"dataframe\">\n",
       "  <thead>\n",
       "    <tr style=\"text-align: right;\">\n",
       "      <th></th>\n",
       "      <th>Type</th>\n",
       "      <th>Modulus</th>\n",
       "      <th>Size</th>\n",
       "      <th>Skip Values</th>\n",
       "      <th>Skip Type</th>\n",
       "      <th>Result</th>\n",
       "    </tr>\n",
       "  </thead>\n",
       "  <tbody>\n",
       "    <tr>\n",
       "      <th>0</th>\n",
       "      <td>Circles</td>\n",
       "      <td>3</td>\n",
       "      <td>52</td>\n",
       "      <td>5,10,15</td>\n",
       "      <td>original</td>\n",
       "      <td>0</td>\n",
       "    </tr>\n",
       "    <tr>\n",
       "      <th>1</th>\n",
       "      <td>Circles</td>\n",
       "      <td>6</td>\n",
       "      <td>6</td>\n",
       "      <td>2,3,4,5,6,7,8</td>\n",
       "      <td>v2</td>\n",
       "      <td>1</td>\n",
       "    </tr>\n",
       "    <tr>\n",
       "      <th>2</th>\n",
       "      <td>Circles</td>\n",
       "      <td>16</td>\n",
       "      <td>4</td>\n",
       "      <td>10,20,30,40,50,60,70,80</td>\n",
       "      <td>original</td>\n",
       "      <td>0</td>\n",
       "    </tr>\n",
       "    <tr>\n",
       "      <th>3</th>\n",
       "      <td>Circles</td>\n",
       "      <td>3</td>\n",
       "      <td>40</td>\n",
       "      <td>5,10,15,20,25</td>\n",
       "      <td>original</td>\n",
       "      <td>0</td>\n",
       "    </tr>\n",
       "    <tr>\n",
       "      <th>4</th>\n",
       "      <td>Circles</td>\n",
       "      <td>15</td>\n",
       "      <td>55</td>\n",
       "      <td>2,3,4,5,6,7,8</td>\n",
       "      <td>original</td>\n",
       "      <td>0</td>\n",
       "    </tr>\n",
       "  </tbody>\n",
       "</table>\n",
       "</div>"
      ],
      "text/plain": [
       "      Type  Modulus  Size              Skip Values Skip Type  Result\n",
       "0  Circles        3    52                  5,10,15  original       0\n",
       "1  Circles        6     6            2,3,4,5,6,7,8        v2       1\n",
       "2  Circles       16     4  10,20,30,40,50,60,70,80  original       0\n",
       "3  Circles        3    40            5,10,15,20,25  original       0\n",
       "4  Circles       15    55            2,3,4,5,6,7,8  original       0"
      ]
     },
     "execution_count": 2,
     "metadata": {},
     "output_type": "execute_result"
    }
   ],
   "source": [
    "schemas_path = \"../data/schemas.txt\"\n",
    "# Create the dataframe\n",
    "df = pd.read_csv(schemas_path, sep=\";\")\n",
    "df.head()"
   ]
  },
  {
   "cell_type": "code",
   "execution_count": 3,
   "metadata": {},
   "outputs": [],
   "source": [
    "from sklearn.preprocessing import MinMaxScaler\n",
    "from sklearn.metrics import accuracy_score, roc_auc_score\n",
    "from sklearn.neighbors import KNeighborsClassifier\n",
    "from sklearn.model_selection import train_test_split\n",
    "from sklearn.cluster import KMeans"
   ]
  },
  {
   "cell_type": "code",
   "execution_count": 4,
   "metadata": {},
   "outputs": [],
   "source": [
    "def get_mean(data):\n",
    "    \"\"\"\n",
    "    Take a string of numbers seperated by commas.\n",
    "    Split the string by the commas.\n",
    "    Find the mean of the numbers.\n",
    "    \"\"\"\n",
    "    numbers = list(map(int, data.split(\",\")))\n",
    "    return np.mean(numbers)"
   ]
  },
  {
   "cell_type": "code",
   "execution_count": 5,
   "metadata": {},
   "outputs": [],
   "source": [
    "def get_average(data):\n",
    "    \"\"\"\n",
    "    Take a string of numbers seperated by commas.\n",
    "    Splt the string by the commas.\n",
    "    Find the average of the numbers\n",
    "    \"\"\"\n",
    "    numbers = list(map(int, data.split(\",\")))\n",
    "    return np.average(numbers)"
   ]
  },
  {
   "cell_type": "code",
   "execution_count": 6,
   "metadata": {},
   "outputs": [],
   "source": [
    "def get_type(data):\n",
    "    \"\"\"\n",
    "    Return the Schema type as a number.\n",
    "    Circles => 0\n",
    "    Curves => 1\n",
    "    Squares => 2\n",
    "    Stripes => 3\n",
    "    \"\"\"\n",
    "    if data == \"Circles\":\n",
    "        return 0\n",
    "    elif data == \"Curves\":\n",
    "        return 1\n",
    "    elif data == \"Squares\":\n",
    "        return 2\n",
    "    elif data == \"Stripes\":\n",
    "        return 3\n",
    "    elif data == 'Space':\n",
    "        return 4\n",
    "    elif data == 'GSquares':\n",
    "        return 5"
   ]
  },
  {
   "cell_type": "code",
   "execution_count": 7,
   "metadata": {},
   "outputs": [],
   "source": [
    "def get_skip_type(data):\n",
    "    \"\"\"\n",
    "    Return the skip type as a number.\n",
    "    original => 0\n",
    "    v2 => 1\n",
    "    \"\"\"\n",
    "    if data == \"original\":\n",
    "        return 0\n",
    "    elif data == \"v2\":\n",
    "        return 1"
   ]
  },
  {
   "cell_type": "code",
   "execution_count": 8,
   "metadata": {},
   "outputs": [],
   "source": [
    "# Format data\n",
    "\n",
    "# Find the average of the skip values\n",
    "df['Skip Values'] = df['Skip Values'].map(lambda x: get_mean(x))\n",
    "df['Type'] = df['Type'].map(lambda x: get_type(x))\n",
    "# df.Type = df.Type.map({'Circles': 0, 'Curves': 1, 'Squares': 2, 'Stripes': 3})\n",
    "df.Result = df.Result.map(lambda x: 1 if x == 0 else 0)\n",
    "df['Skip Type'] = df['Skip Type'].map(lambda x: get_skip_type(x))"
   ]
  },
  {
   "cell_type": "code",
   "execution_count": 9,
   "metadata": {},
   "outputs": [],
   "source": [
    "scaler = MinMaxScaler()\n",
    "knn = KNeighborsClassifier(n_neighbors=8)\n",
    "kmeans = KMeans(n_clusters=8)"
   ]
  },
  {
   "cell_type": "code",
   "execution_count": 10,
   "metadata": {},
   "outputs": [
    {
     "data": {
      "text/html": [
       "<div>\n",
       "<style scoped>\n",
       "    .dataframe tbody tr th:only-of-type {\n",
       "        vertical-align: middle;\n",
       "    }\n",
       "\n",
       "    .dataframe tbody tr th {\n",
       "        vertical-align: top;\n",
       "    }\n",
       "\n",
       "    .dataframe thead th {\n",
       "        text-align: right;\n",
       "    }\n",
       "</style>\n",
       "<table border=\"1\" class=\"dataframe\">\n",
       "  <thead>\n",
       "    <tr style=\"text-align: right;\">\n",
       "      <th></th>\n",
       "      <th>Type</th>\n",
       "      <th>Modulus</th>\n",
       "      <th>Size</th>\n",
       "      <th>Skip Values</th>\n",
       "      <th>Skip Type</th>\n",
       "      <th>Result</th>\n",
       "      <th>Cluster</th>\n",
       "    </tr>\n",
       "  </thead>\n",
       "  <tbody>\n",
       "    <tr>\n",
       "      <th>0</th>\n",
       "      <td>0</td>\n",
       "      <td>3</td>\n",
       "      <td>52</td>\n",
       "      <td>10.0</td>\n",
       "      <td>0</td>\n",
       "      <td>1</td>\n",
       "      <td>6</td>\n",
       "    </tr>\n",
       "    <tr>\n",
       "      <th>1</th>\n",
       "      <td>0</td>\n",
       "      <td>6</td>\n",
       "      <td>6</td>\n",
       "      <td>5.0</td>\n",
       "      <td>1</td>\n",
       "      <td>0</td>\n",
       "      <td>2</td>\n",
       "    </tr>\n",
       "    <tr>\n",
       "      <th>2</th>\n",
       "      <td>0</td>\n",
       "      <td>16</td>\n",
       "      <td>4</td>\n",
       "      <td>45.0</td>\n",
       "      <td>0</td>\n",
       "      <td>1</td>\n",
       "      <td>5</td>\n",
       "    </tr>\n",
       "    <tr>\n",
       "      <th>3</th>\n",
       "      <td>0</td>\n",
       "      <td>3</td>\n",
       "      <td>40</td>\n",
       "      <td>15.0</td>\n",
       "      <td>0</td>\n",
       "      <td>1</td>\n",
       "      <td>6</td>\n",
       "    </tr>\n",
       "    <tr>\n",
       "      <th>4</th>\n",
       "      <td>0</td>\n",
       "      <td>15</td>\n",
       "      <td>55</td>\n",
       "      <td>5.0</td>\n",
       "      <td>0</td>\n",
       "      <td>1</td>\n",
       "      <td>3</td>\n",
       "    </tr>\n",
       "  </tbody>\n",
       "</table>\n",
       "</div>"
      ],
      "text/plain": [
       "   Type  Modulus  Size  Skip Values  Skip Type  Result  Cluster\n",
       "0     0        3    52         10.0          0       1        6\n",
       "1     0        6     6          5.0          1       0        2\n",
       "2     0       16     4         45.0          0       1        5\n",
       "3     0        3    40         15.0          0       1        6\n",
       "4     0       15    55          5.0          0       1        3"
      ]
     },
     "execution_count": 10,
     "metadata": {},
     "output_type": "execute_result"
    }
   ],
   "source": [
    "# Cluster the data\n",
    "features = [\"Modulus\", \"Size\", \"Skip Values\", \"Type\", \"Skip Type\"]\n",
    "kmeans.fit(df[features])\n",
    "df[\"Cluster\"] = kmeans.predict(df[features])\n",
    "df.head()"
   ]
  },
  {
   "cell_type": "code",
   "execution_count": 11,
   "metadata": {},
   "outputs": [
    {
     "data": {
      "text/html": [
       "<div>\n",
       "<style scoped>\n",
       "    .dataframe tbody tr th:only-of-type {\n",
       "        vertical-align: middle;\n",
       "    }\n",
       "\n",
       "    .dataframe tbody tr th {\n",
       "        vertical-align: top;\n",
       "    }\n",
       "\n",
       "    .dataframe thead th {\n",
       "        text-align: right;\n",
       "    }\n",
       "</style>\n",
       "<table border=\"1\" class=\"dataframe\">\n",
       "  <thead>\n",
       "    <tr style=\"text-align: right;\">\n",
       "      <th></th>\n",
       "      <th>Type</th>\n",
       "      <th>Modulus</th>\n",
       "      <th>Size</th>\n",
       "      <th>Skip Values</th>\n",
       "      <th>Skip Type</th>\n",
       "      <th>Result</th>\n",
       "      <th>Cluster</th>\n",
       "    </tr>\n",
       "  </thead>\n",
       "  <tbody>\n",
       "    <tr>\n",
       "      <th>0</th>\n",
       "      <td>0.0</td>\n",
       "      <td>0.037037</td>\n",
       "      <td>0.520408</td>\n",
       "      <td>0.204545</td>\n",
       "      <td>0</td>\n",
       "      <td>1</td>\n",
       "      <td>0.857143</td>\n",
       "    </tr>\n",
       "    <tr>\n",
       "      <th>1</th>\n",
       "      <td>0.0</td>\n",
       "      <td>0.148148</td>\n",
       "      <td>0.051020</td>\n",
       "      <td>0.090909</td>\n",
       "      <td>1</td>\n",
       "      <td>0</td>\n",
       "      <td>0.285714</td>\n",
       "    </tr>\n",
       "    <tr>\n",
       "      <th>2</th>\n",
       "      <td>0.0</td>\n",
       "      <td>0.518519</td>\n",
       "      <td>0.030612</td>\n",
       "      <td>1.000000</td>\n",
       "      <td>0</td>\n",
       "      <td>1</td>\n",
       "      <td>0.714286</td>\n",
       "    </tr>\n",
       "    <tr>\n",
       "      <th>3</th>\n",
       "      <td>0.0</td>\n",
       "      <td>0.037037</td>\n",
       "      <td>0.397959</td>\n",
       "      <td>0.318182</td>\n",
       "      <td>0</td>\n",
       "      <td>1</td>\n",
       "      <td>0.857143</td>\n",
       "    </tr>\n",
       "    <tr>\n",
       "      <th>4</th>\n",
       "      <td>0.0</td>\n",
       "      <td>0.481481</td>\n",
       "      <td>0.551020</td>\n",
       "      <td>0.090909</td>\n",
       "      <td>0</td>\n",
       "      <td>1</td>\n",
       "      <td>0.428571</td>\n",
       "    </tr>\n",
       "  </tbody>\n",
       "</table>\n",
       "</div>"
      ],
      "text/plain": [
       "   Type   Modulus      Size  Skip Values  Skip Type  Result   Cluster\n",
       "0   0.0  0.037037  0.520408     0.204545          0       1  0.857143\n",
       "1   0.0  0.148148  0.051020     0.090909          1       0  0.285714\n",
       "2   0.0  0.518519  0.030612     1.000000          0       1  0.714286\n",
       "3   0.0  0.037037  0.397959     0.318182          0       1  0.857143\n",
       "4   0.0  0.481481  0.551020     0.090909          0       1  0.428571"
      ]
     },
     "execution_count": 11,
     "metadata": {},
     "output_type": "execute_result"
    }
   ],
   "source": [
    "# df = df.drop(columns=['Modulus', 'Size', 'Skip Values'], axis=1)\n",
    "features = [[\"Modulus\", \"Size\", \"Skip Values\", \"Type\", \"Cluster\"]]\n",
    "for feature in features:\n",
    "    df[feature] = scaler.fit_transform(df[feature])\n",
    "df.head()\n",
    "# df = df.drop(columns=[\"Modulus\", \"Size\", \"Skip Values\"], axis=1)\n",
    "# df.head()"
   ]
  },
  {
   "cell_type": "code",
   "execution_count": 12,
   "metadata": {},
   "outputs": [],
   "source": [
    "# Seperate data\n",
    "X = df.drop(columns=[\"Result\"], axis=1)\n",
    "y = df.Result\n",
    "X_train, X_test, y_train, y_test = train_test_split(X, y, test_size=0.2, random_state=4)"
   ]
  },
  {
   "cell_type": "code",
   "execution_count": 13,
   "metadata": {},
   "outputs": [],
   "source": [
    "knn.fit(X_train.values, y_train.values)\n",
    "y_pred = knn.predict(X_test.values)"
   ]
  },
  {
   "cell_type": "code",
   "execution_count": 14,
   "metadata": {},
   "outputs": [
    {
     "name": "stdout",
     "output_type": "stream",
     "text": [
      "0.8058035714285714\n",
      "0.8058035714285714\n",
      "0.7868259563911738\n"
     ]
    }
   ],
   "source": [
    "# Check accuracy, score, and roc_auc_score\n",
    "print(accuracy_score(y_test.values, y_pred))\n",
    "print(knn.score(X_test.values, y_test.values))\n",
    "print(roc_auc_score(y_test.values, y_pred))"
   ]
  }
 ],
 "metadata": {
  "interpreter": {
   "hash": "950c9001d0e8aad19532480266caa1381dcd48ff2bb50881a929361935bd2562"
  },
  "kernelspec": {
   "display_name": "Python 3.9.5 64-bit ('schema_verifier': conda)",
   "language": "python",
   "name": "python3"
  },
  "language_info": {
   "codemirror_mode": {
    "name": "ipython",
    "version": 3
   },
   "file_extension": ".py",
   "mimetype": "text/x-python",
   "name": "python",
   "nbconvert_exporter": "python",
   "pygments_lexer": "ipython3",
   "version": "3.9.5"
  },
  "orig_nbformat": 4
 },
 "nbformat": 4,
 "nbformat_minor": 2
}
