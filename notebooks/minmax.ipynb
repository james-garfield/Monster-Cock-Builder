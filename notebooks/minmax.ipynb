{
 "cells": [
  {
   "cell_type": "markdown",
   "metadata": {},
   "source": [
    "# Verify Model with MinMax"
   ]
  },
  {
   "cell_type": "code",
   "execution_count": 55,
   "metadata": {},
   "outputs": [],
   "source": [
    "import numpy as np\n",
    "import pandas as pd\n",
    "import matplotlib.pyplot as plt\n",
    "import seaborn as sns\n",
    "%matplotlib inline"
   ]
  },
  {
   "cell_type": "code",
   "execution_count": 56,
   "metadata": {},
   "outputs": [
    {
     "data": {
      "text/html": [
       "<div>\n",
       "<style scoped>\n",
       "    .dataframe tbody tr th:only-of-type {\n",
       "        vertical-align: middle;\n",
       "    }\n",
       "\n",
       "    .dataframe tbody tr th {\n",
       "        vertical-align: top;\n",
       "    }\n",
       "\n",
       "    .dataframe thead th {\n",
       "        text-align: right;\n",
       "    }\n",
       "</style>\n",
       "<table border=\"1\" class=\"dataframe\">\n",
       "  <thead>\n",
       "    <tr style=\"text-align: right;\">\n",
       "      <th></th>\n",
       "      <th>Type</th>\n",
       "      <th>Modulus</th>\n",
       "      <th>Size</th>\n",
       "      <th>Skip Values</th>\n",
       "      <th>Skip Type</th>\n",
       "      <th>Result</th>\n",
       "    </tr>\n",
       "  </thead>\n",
       "  <tbody>\n",
       "    <tr>\n",
       "      <th>0</th>\n",
       "      <td>Stripes</td>\n",
       "      <td>3</td>\n",
       "      <td>97</td>\n",
       "      <td>10</td>\n",
       "      <td>original</td>\n",
       "      <td>1</td>\n",
       "    </tr>\n",
       "    <tr>\n",
       "      <th>1</th>\n",
       "      <td>Stripes</td>\n",
       "      <td>19</td>\n",
       "      <td>41</td>\n",
       "      <td>2,3,4,5,6,7,8</td>\n",
       "      <td>original</td>\n",
       "      <td>1</td>\n",
       "    </tr>\n",
       "    <tr>\n",
       "      <th>2</th>\n",
       "      <td>Circles</td>\n",
       "      <td>14</td>\n",
       "      <td>16</td>\n",
       "      <td>5,10,15</td>\n",
       "      <td>original</td>\n",
       "      <td>1</td>\n",
       "    </tr>\n",
       "    <tr>\n",
       "      <th>3</th>\n",
       "      <td>Circles</td>\n",
       "      <td>4</td>\n",
       "      <td>55</td>\n",
       "      <td>1,2</td>\n",
       "      <td>original</td>\n",
       "      <td>0</td>\n",
       "    </tr>\n",
       "    <tr>\n",
       "      <th>4</th>\n",
       "      <td>Circles</td>\n",
       "      <td>11</td>\n",
       "      <td>11</td>\n",
       "      <td>3,6,9,12,15,18</td>\n",
       "      <td>v2</td>\n",
       "      <td>1</td>\n",
       "    </tr>\n",
       "  </tbody>\n",
       "</table>\n",
       "</div>"
      ],
      "text/plain": [
       "      Type  Modulus  Size     Skip Values Skip Type  Result\n",
       "0  Stripes        3    97              10  original       1\n",
       "1  Stripes       19    41   2,3,4,5,6,7,8  original       1\n",
       "2  Circles       14    16         5,10,15  original       1\n",
       "3  Circles        4    55             1,2  original       0\n",
       "4  Circles       11    11  3,6,9,12,15,18        v2       1"
      ]
     },
     "execution_count": 56,
     "metadata": {},
     "output_type": "execute_result"
    }
   ],
   "source": [
    "schemas_path = \"../data/schemas.txt\"\n",
    "# Create the dataframe\n",
    "df = pd.read_csv(schemas_path, sep=\";\")\n",
    "df.head()"
   ]
  },
  {
   "cell_type": "code",
   "execution_count": 57,
   "metadata": {},
   "outputs": [],
   "source": [
    "from sklearn.preprocessing import MinMaxScaler\n",
    "from sklearn.metrics import accuracy_score, roc_auc_score\n",
    "from sklearn.neighbors import KNeighborsClassifier\n",
    "from sklearn.model_selection import train_test_split\n",
    "from sklearn.cluster import KMeans"
   ]
  },
  {
   "cell_type": "code",
   "execution_count": 58,
   "metadata": {},
   "outputs": [],
   "source": [
    "def get_mean(data):\n",
    "    \"\"\"\n",
    "    Take a string of numbers seperated by commas.\n",
    "    Split the string by the commas.\n",
    "    Find the mean of the numbers.\n",
    "    \"\"\"\n",
    "    numbers = list(map(int, data.split(\",\")))\n",
    "    return np.mean(numbers)"
   ]
  },
  {
   "cell_type": "code",
   "execution_count": 59,
   "metadata": {},
   "outputs": [],
   "source": [
    "def get_average(data):\n",
    "    \"\"\"\n",
    "    Take a string of numbers seperated by commas.\n",
    "    Splt the string by the commas.\n",
    "    Find the average of the numbers\n",
    "    \"\"\"\n",
    "    numbers = list(map(int, data.split(\",\")))\n",
    "    return np.average(numbers)"
   ]
  },
  {
   "cell_type": "code",
   "execution_count": 60,
   "metadata": {},
   "outputs": [],
   "source": [
    "def get_type(data):\n",
    "    \"\"\"\n",
    "    Return the Schema type as a number.\n",
    "    Circles => 0\n",
    "    Curves => 1\n",
    "    Squares => 2\n",
    "    Stripes => 3\n",
    "    \"\"\"\n",
    "    if data == \"Circles\":\n",
    "        return 0\n",
    "    elif data == \"Curves\":\n",
    "        return 1\n",
    "    elif data == \"Squares\":\n",
    "        return 2\n",
    "    elif data == \"Stripes\":\n",
    "        return 3\n",
    "    elif data == 'Space':\n",
    "        return 4"
   ]
  },
  {
   "cell_type": "code",
   "execution_count": 61,
   "metadata": {},
   "outputs": [],
   "source": [
    "def get_skip_type(data):\n",
    "    \"\"\"\n",
    "    Return the skip type as a number.\n",
    "    original => 0\n",
    "    v2 => 1\n",
    "    \"\"\"\n",
    "    if data == \"original\":\n",
    "        return 0\n",
    "    elif data == \"v2\":\n",
    "        return 1"
   ]
  },
  {
   "cell_type": "code",
   "execution_count": 62,
   "metadata": {},
   "outputs": [],
   "source": [
    "# Format data\n",
    "\n",
    "# Find the average of the skip values\n",
    "df['Skip Values'] = df['Skip Values'].map(lambda x: get_mean(x))\n",
    "df['Type'] = df['Type'].map(lambda x: get_type(x))\n",
    "# df.Type = df.Type.map({'Circles': 0, 'Curves': 1, 'Squares': 2, 'Stripes': 3})\n",
    "df.Result = df.Result.map(lambda x: 1 if x == 0 else 0)\n",
    "df['Skip Type'] = df['Skip Type'].map(lambda x: get_skip_type(x))"
   ]
  },
  {
   "cell_type": "code",
   "execution_count": 63,
   "metadata": {},
   "outputs": [],
   "source": [
    "scaler = MinMaxScaler()\n",
    "knn = KNeighborsClassifier(n_neighbors=8)\n",
    "kmeans = KMeans(n_clusters=8)"
   ]
  },
  {
   "cell_type": "code",
   "execution_count": 64,
   "metadata": {},
   "outputs": [
    {
     "data": {
      "text/html": [
       "<div>\n",
       "<style scoped>\n",
       "    .dataframe tbody tr th:only-of-type {\n",
       "        vertical-align: middle;\n",
       "    }\n",
       "\n",
       "    .dataframe tbody tr th {\n",
       "        vertical-align: top;\n",
       "    }\n",
       "\n",
       "    .dataframe thead th {\n",
       "        text-align: right;\n",
       "    }\n",
       "</style>\n",
       "<table border=\"1\" class=\"dataframe\">\n",
       "  <thead>\n",
       "    <tr style=\"text-align: right;\">\n",
       "      <th></th>\n",
       "      <th>Type</th>\n",
       "      <th>Modulus</th>\n",
       "      <th>Size</th>\n",
       "      <th>Skip Values</th>\n",
       "      <th>Skip Type</th>\n",
       "      <th>Result</th>\n",
       "      <th>Cluster</th>\n",
       "    </tr>\n",
       "  </thead>\n",
       "  <tbody>\n",
       "    <tr>\n",
       "      <th>0</th>\n",
       "      <td>3</td>\n",
       "      <td>3</td>\n",
       "      <td>97</td>\n",
       "      <td>10.0</td>\n",
       "      <td>0</td>\n",
       "      <td>0</td>\n",
       "      <td>1</td>\n",
       "    </tr>\n",
       "    <tr>\n",
       "      <th>1</th>\n",
       "      <td>3</td>\n",
       "      <td>19</td>\n",
       "      <td>41</td>\n",
       "      <td>5.0</td>\n",
       "      <td>0</td>\n",
       "      <td>0</td>\n",
       "      <td>4</td>\n",
       "    </tr>\n",
       "    <tr>\n",
       "      <th>2</th>\n",
       "      <td>0</td>\n",
       "      <td>14</td>\n",
       "      <td>16</td>\n",
       "      <td>10.0</td>\n",
       "      <td>0</td>\n",
       "      <td>0</td>\n",
       "      <td>2</td>\n",
       "    </tr>\n",
       "    <tr>\n",
       "      <th>3</th>\n",
       "      <td>0</td>\n",
       "      <td>4</td>\n",
       "      <td>55</td>\n",
       "      <td>1.5</td>\n",
       "      <td>0</td>\n",
       "      <td>1</td>\n",
       "      <td>4</td>\n",
       "    </tr>\n",
       "    <tr>\n",
       "      <th>4</th>\n",
       "      <td>0</td>\n",
       "      <td>11</td>\n",
       "      <td>11</td>\n",
       "      <td>10.5</td>\n",
       "      <td>1</td>\n",
       "      <td>0</td>\n",
       "      <td>0</td>\n",
       "    </tr>\n",
       "  </tbody>\n",
       "</table>\n",
       "</div>"
      ],
      "text/plain": [
       "   Type  Modulus  Size  Skip Values  Skip Type  Result  Cluster\n",
       "0     3        3    97         10.0          0       0        1\n",
       "1     3       19    41          5.0          0       0        4\n",
       "2     0       14    16         10.0          0       0        2\n",
       "3     0        4    55          1.5          0       1        4\n",
       "4     0       11    11         10.5          1       0        0"
      ]
     },
     "execution_count": 64,
     "metadata": {},
     "output_type": "execute_result"
    }
   ],
   "source": [
    "# Cluster the data\n",
    "features = [\"Modulus\", \"Size\", \"Skip Values\", \"Type\", \"Skip Type\"]\n",
    "kmeans.fit(df[features])\n",
    "df[\"Cluster\"] = kmeans.predict(df[features])\n",
    "df.head()"
   ]
  },
  {
   "cell_type": "code",
   "execution_count": 65,
   "metadata": {},
   "outputs": [
    {
     "data": {
      "text/html": [
       "<div>\n",
       "<style scoped>\n",
       "    .dataframe tbody tr th:only-of-type {\n",
       "        vertical-align: middle;\n",
       "    }\n",
       "\n",
       "    .dataframe tbody tr th {\n",
       "        vertical-align: top;\n",
       "    }\n",
       "\n",
       "    .dataframe thead th {\n",
       "        text-align: right;\n",
       "    }\n",
       "</style>\n",
       "<table border=\"1\" class=\"dataframe\">\n",
       "  <thead>\n",
       "    <tr style=\"text-align: right;\">\n",
       "      <th></th>\n",
       "      <th>Type</th>\n",
       "      <th>Modulus</th>\n",
       "      <th>Size</th>\n",
       "      <th>Skip Values</th>\n",
       "      <th>Skip Type</th>\n",
       "      <th>Result</th>\n",
       "      <th>Cluster</th>\n",
       "    </tr>\n",
       "  </thead>\n",
       "  <tbody>\n",
       "    <tr>\n",
       "      <th>0</th>\n",
       "      <td>0.75</td>\n",
       "      <td>0.037037</td>\n",
       "      <td>0.979592</td>\n",
       "      <td>0.204545</td>\n",
       "      <td>0</td>\n",
       "      <td>0</td>\n",
       "      <td>0.142857</td>\n",
       "    </tr>\n",
       "    <tr>\n",
       "      <th>1</th>\n",
       "      <td>0.75</td>\n",
       "      <td>0.629630</td>\n",
       "      <td>0.408163</td>\n",
       "      <td>0.090909</td>\n",
       "      <td>0</td>\n",
       "      <td>0</td>\n",
       "      <td>0.571429</td>\n",
       "    </tr>\n",
       "    <tr>\n",
       "      <th>2</th>\n",
       "      <td>0.00</td>\n",
       "      <td>0.444444</td>\n",
       "      <td>0.153061</td>\n",
       "      <td>0.204545</td>\n",
       "      <td>0</td>\n",
       "      <td>0</td>\n",
       "      <td>0.285714</td>\n",
       "    </tr>\n",
       "    <tr>\n",
       "      <th>3</th>\n",
       "      <td>0.00</td>\n",
       "      <td>0.074074</td>\n",
       "      <td>0.551020</td>\n",
       "      <td>0.011364</td>\n",
       "      <td>0</td>\n",
       "      <td>1</td>\n",
       "      <td>0.571429</td>\n",
       "    </tr>\n",
       "    <tr>\n",
       "      <th>4</th>\n",
       "      <td>0.00</td>\n",
       "      <td>0.333333</td>\n",
       "      <td>0.102041</td>\n",
       "      <td>0.215909</td>\n",
       "      <td>1</td>\n",
       "      <td>0</td>\n",
       "      <td>0.000000</td>\n",
       "    </tr>\n",
       "  </tbody>\n",
       "</table>\n",
       "</div>"
      ],
      "text/plain": [
       "   Type   Modulus      Size  Skip Values  Skip Type  Result   Cluster\n",
       "0  0.75  0.037037  0.979592     0.204545          0       0  0.142857\n",
       "1  0.75  0.629630  0.408163     0.090909          0       0  0.571429\n",
       "2  0.00  0.444444  0.153061     0.204545          0       0  0.285714\n",
       "3  0.00  0.074074  0.551020     0.011364          0       1  0.571429\n",
       "4  0.00  0.333333  0.102041     0.215909          1       0  0.000000"
      ]
     },
     "execution_count": 65,
     "metadata": {},
     "output_type": "execute_result"
    }
   ],
   "source": [
    "# df = df.drop(columns=['Modulus', 'Size', 'Skip Values'], axis=1)\n",
    "features = [[\"Modulus\", \"Size\", \"Skip Values\", \"Type\", \"Cluster\"]]\n",
    "for feature in features:\n",
    "    df[feature] = scaler.fit_transform(df[feature])\n",
    "df.head()\n",
    "# df = df.drop(columns=[\"Modulus\", \"Size\", \"Skip Values\"], axis=1)\n",
    "# df.head()"
   ]
  },
  {
   "cell_type": "code",
   "execution_count": 66,
   "metadata": {},
   "outputs": [],
   "source": [
    "# Seperate data\n",
    "X = df.drop(columns=[\"Result\"], axis=1)\n",
    "y = df.Result\n",
    "X_train, X_test, y_train, y_test = train_test_split(X, y, test_size=0.2, random_state=4)"
   ]
  },
  {
   "cell_type": "code",
   "execution_count": 67,
   "metadata": {},
   "outputs": [],
   "source": [
    "knn.fit(X_train.values, y_train.values)\n",
    "y_pred = knn.predict(X_test.values)"
   ]
  },
  {
   "cell_type": "code",
   "execution_count": 68,
   "metadata": {},
   "outputs": [
    {
     "name": "stdout",
     "output_type": "stream",
     "text": [
      "0.7754172989377845\n",
      "0.7754172989377845\n",
      "0.6856771277502984\n"
     ]
    }
   ],
   "source": [
    "# Check accuracy, score, and roc_auc_score\n",
    "print(accuracy_score(y_test.values, y_pred))\n",
    "print(knn.score(X_test.values, y_test.values))\n",
    "print(roc_auc_score(y_test.values, y_pred))"
   ]
  }
 ],
 "metadata": {
  "interpreter": {
   "hash": "950c9001d0e8aad19532480266caa1381dcd48ff2bb50881a929361935bd2562"
  },
  "kernelspec": {
   "display_name": "Python 3.9.5 64-bit ('schema_verifier': conda)",
   "language": "python",
   "name": "python3"
  },
  "language_info": {
   "codemirror_mode": {
    "name": "ipython",
    "version": 3
   },
   "file_extension": ".py",
   "mimetype": "text/x-python",
   "name": "python",
   "nbconvert_exporter": "python",
   "pygments_lexer": "ipython3",
   "version": "3.9.5"
  },
  "orig_nbformat": 4
 },
 "nbformat": 4,
 "nbformat_minor": 2
}
